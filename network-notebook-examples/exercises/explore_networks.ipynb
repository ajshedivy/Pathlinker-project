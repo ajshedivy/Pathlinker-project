{
 "cells": [
  {
   "cell_type": "markdown",
   "metadata": {},
   "source": [
    "# Explore the network files\n",
    "\n",
    "The goal is to learn networkx functions by exploring the stored network files. Each section of the notebook has a task to complete.\n",
    "\n",
    "This notebook was originally designed for an old verison of networkx (1.9.1). Function names may have changed."
   ]
  },
  {
   "cell_type": "markdown",
   "metadata": {},
   "source": [
    "## List the network files\n",
    "The Python `glob` module can be used to find all network input files that match a filename pattern that includes wildcards.  Use `glob` to obtain all of the filenames in `../data` without hard-coding `network1.txt`, `network2.txt`, etc.  Print the list of filenames."
   ]
  },
  {
   "cell_type": "code",
   "execution_count": 1,
   "metadata": {},
   "outputs": [
    {
     "name": "stdout",
     "output_type": "stream",
     "text": [
      "2.2\n",
      "{'net1': 'C:\\\\Users\\\\ajshe\\\\Anaconda3\\\\envs\\\\pathlinker_env\\\\PathLinker-master\\\\network-notebook-examples\\\\data\\\\network1.txt', 'net2': 'C:\\\\Users\\\\ajshe\\\\Anaconda3\\\\envs\\\\pathlinker_env\\\\PathLinker-master\\\\network-notebook-examples\\\\data\\\\network2.txt', 'net3': 'C:\\\\Users\\\\ajshe\\\\Anaconda3\\\\envs\\\\pathlinker_env\\\\PathLinker-master\\\\network-notebook-examples\\\\data\\\\network3.txt', 'net4': 'C:\\\\Users\\\\ajshe\\\\Anaconda3\\\\envs\\\\pathlinker_env\\\\PathLinker-master\\\\network-notebook-examples\\\\data\\\\network4.txt', 'net5': 'C:\\\\Users\\\\ajshe\\\\Anaconda3\\\\envs\\\\pathlinker_env\\\\PathLinker-master\\\\network-notebook-examples\\\\data\\\\network5.txt'}\n"
     ]
    }
   ],
   "source": [
    "import networkx as nx\n",
    "import os, glob\n",
    "\n",
    "# The networkx API changes in different versions\n",
    "print(nx.__version__)\n",
    "\n",
    "network_files = glob.glob(r\"C:\\Users\\ajshe\\Anaconda3\\envs\\pathlinker_env\\PathLinker-master\\network-notebook-examples\\data\\network?.txt\")\n",
    "network_files\n",
    "\n",
    "keys = ['net1', 'net2', 'net3', 'net4', 'net5']\n",
    "values = network_files\n",
    "net_file_dict = dict(zip(keys, values))\n",
    "print(net_file_dict)"
   ]
  },
  {
   "cell_type": "markdown",
   "metadata": {},
   "source": [
    "## Load the network files\n",
    "Define a function that will use the `networkx` module to create an undirected Graph (https://networkx.github.io/documentation/stable/reference/classes/graph.html) object for each network file.  Given a filename, the function will return the constructed Graph.\n",
    "\n",
    "Next, iterate through the list of files and create a list of Graphs.  It will be helpful later to sort the list of filenames first."
   ]
  },
  {
   "cell_type": "code",
   "execution_count": 6,
   "metadata": {},
   "outputs": [
    {
     "name": "stdout",
     "output_type": "stream",
     "text": [
      "Name: \n",
      "Type: Graph\n",
      "Number of nodes: 12\n",
      "Number of edges: 11\n",
      "Average degree:   1.8333\n"
     ]
    },
    {
     "data": {
      "image/png": "[encoded data removed]",
      "text/plain": [
       "<Figure size 432x288 with 1 Axes>"
      ]
     },
     "metadata": {},
     "output_type": "display_data"
    }
   ],
   "source": [
    "net1 = 'C:\\\\Users\\\\ajshe\\\\Anaconda3\\\\envs\\\\pathlinker_env\\\\PathLinker-master\\\\network-notebook-examples\\\\data\\\\network1.txt'\n",
    "net2 = 'C:\\\\Users\\\\ajshe\\\\Anaconda3\\\\envs\\\\pathlinker_env\\\\PathLinker-master\\\\network-notebook-examples\\\\data\\\\network2.txt'\n",
    "net3 = r'C:\\\\Users\\\\ajshe\\\\Anaconda3\\\\envs\\\\pathlinker_env\\\\PathLinker-master\\\\network-notebook-examples\\\\data\\\\network3.txt'\n",
    "net4 = 'C:\\\\Users\\\\ajshe\\\\Anaconda3\\\\envs\\\\pathlinker_env\\\\PathLinker-master\\\\network-notebook-examples\\\\data\\\\network4.txt'\n",
    "net5 = 'C:\\\\Users\\\\ajshe\\\\Anaconda3\\\\envs\\\\pathlinker_env\\\\PathLinker-master\\\\network-notebook-examples\\\\data\\\\network5.txt'\n",
    "\n",
    "\n",
    "\n",
    "G = nx.read_edgelist(net3, create_using=nx.Graph(), nodetype=str)\n",
    "print(nx.info(G))\n",
    "nx.draw_networkx_labels(G, pos=nx.spring_layout(G))\n",
    "nx.draw(G)\n",
    "plt.show()\n"
   ]
  },
  {
   "cell_type": "code",
   "execution_count": 7,
   "metadata": {},
   "outputs": [
    {
     "data": {
      "text/plain": [
       "[<networkx.classes.graph.Graph at 0x1cd56e6e198>,\n",
       " <networkx.classes.graph.Graph at 0x1cd56e6ef28>,\n",
       " <networkx.classes.graph.Graph at 0x1cd56e6eef0>,\n",
       " <networkx.classes.graph.Graph at 0x1cd56e6ee80>,\n",
       " <networkx.classes.graph.Graph at 0x1cd56df8470>]"
      ]
     },
     "execution_count": 7,
     "metadata": {},
     "output_type": "execute_result"
    }
   ],
   "source": [
    "\n",
    "graph_files = []\n",
    "def load_network(network_file):\n",
    "    try:\n",
    "        for item in network_file:\n",
    "            G = nx.read_edgelist(item, create_using=nx.Graph(), nodetype=str)\n",
    "            graph_files.append(G)\n",
    "        return graph_files\n",
    "    except:\n",
    "        G = nx.read_edgelist(network_file, create_using=nx.Graph(), nodetype=str)\n",
    "        return G\n",
    "    \n",
    "#load_network(r\"C:\\Users\\ajshe\\Anaconda3\\envs\\pathlinker_env\\PathLinker-master\\network-notebook-examples\\data\\network1.txt\")\n",
    "load_network(network_files)\n",
    "\n"
   ]
  },
  {
   "cell_type": "markdown",
   "metadata": {},
   "source": [
    "## Draw each of the graphs\n",
    "Iterate through the graphs and use the `networkx` `draw` function (https://networkx.github.io/documentation/stable/reference/generated/networkx.drawing.nx_pylab.draw.html) to visualize them."
   ]
  },
  {
   "cell_type": "code",
   "execution_count": 8,
   "metadata": {
    "scrolled": true
   },
   "outputs": [
    {
     "name": "stdout",
     "output_type": "stream",
     "text": [
      "Populating the interactive namespace from numpy and matplotlib\n",
      "Name: \n",
      "Type: Graph\n",
      "Number of nodes: 8\n",
      "Number of edges: 6\n",
      "Average degree:   1.5000\n"
     ]
    },
    {
     "name": "stderr",
     "output_type": "stream",
     "text": [
      "C:\\Users\\ajshe\\Anaconda3\\lib\\site-packages\\IPython\\core\\magics\\pylab.py:160: UserWarning: pylab import has clobbered these variables: ['draw']\n",
      "`%matplotlib` prevents importing * from pylab and numpy\n",
      "  \"\\n`%matplotlib` prevents importing * from pylab and numpy\"\n"
     ]
    },
    {
     "data": {
      "image/png": "[encoded data removed]",
      "text/plain": [
       "<Figure size 432x288 with 1 Axes>"
      ]
     },
     "metadata": {},
     "output_type": "display_data"
    },
    {
     "name": "stdout",
     "output_type": "stream",
     "text": [
      "Name: \n",
      "Type: Graph\n",
      "Number of nodes: 6\n",
      "Number of edges: 15\n",
      "Average degree:   5.0000\n"
     ]
    },
    {
     "data": {
      "image/png": "[encoded data removed]",
      "text/plain": [
       "<Figure size 432x288 with 1 Axes>"
      ]
     },
     "metadata": {},
     "output_type": "display_data"
    },
    {
     "name": "stdout",
     "output_type": "stream",
     "text": [
      "Name: \n",
      "Type: Graph\n",
      "Number of nodes: 12\n",
      "Number of edges: 11\n",
      "Average degree:   1.8333\n"
     ]
    },
    {
     "data": {
      "image/png": "[encoded data removed]",
      "text/plain": [
       "<Figure size 432x288 with 1 Axes>"
      ]
     },
     "metadata": {},
     "output_type": "display_data"
    },
    {
     "name": "stdout",
     "output_type": "stream",
     "text": [
      "Name: \n",
      "Type: Graph\n",
      "Number of nodes: 7\n",
      "Number of edges: 6\n",
      "Average degree:   1.7143\n"
     ]
    },
    {
     "data": {
      "image/png": "[encoded data removed]",
      "text/plain": [
       "<Figure size 432x288 with 1 Axes>"
      ]
     },
     "metadata": {},
     "output_type": "display_data"
    },
    {
     "name": "stdout",
     "output_type": "stream",
     "text": [
      "Name: \n",
      "Type: Graph\n",
      "Number of nodes: 5\n",
      "Number of edges: 4\n",
      "Average degree:   1.6000\n"
     ]
    },
    {
     "data": {
      "image/png": "[encoded data removed]",
      "text/plain": [
       "<Figure size 432x288 with 1 Axes>"
      ]
     },
     "metadata": {},
     "output_type": "display_data"
    }
   ],
   "source": [
    "%pylab inline\n",
    "def draw(graphs):\n",
    "    try:\n",
    "        for graph in graphs:\n",
    "            nx.draw(graph, with_labels = True)\n",
    "            print(nx.info(graph))\n",
    "            plt.show()\n",
    "    except:\n",
    "        nx.draw(graphs, with_labels = True)\n",
    "        print(nx.info(graphs))\n",
    "        plt.show()\n",
    "        \n",
    "        \n",
    "\n",
    "draw(graph_files)"
   ]
  },
  {
   "cell_type": "markdown",
   "metadata": {},
   "source": [
    "## Explore simple properites of network 3\n",
    "Use existing `networkx` functions (https://networkx.github.io/documentation/stable/reference/functions.html and https://networkx.github.io/documentation/stable/reference/classes/graph.html#methods) to explore the topology of network 3.  Show:\n",
    "- The number of nodes and edges\n",
    "- The neighbors of node **A**\n",
    "- The neighbors of node **F**\n",
    "- The degrees of all nodes\n",
    "- The common neighbors of **A** and **G**"
   ]
  },
  {
   "cell_type": "code",
   "execution_count": 9,
   "metadata": {},
   "outputs": [
    {
     "name": "stdout",
     "output_type": "stream",
     "text": [
      "Name: \n",
      "Type: Graph\n",
      "Number of nodes: 12\n",
      "Number of edges: 11\n",
      "Average degree:   1.8333\n",
      "A:['B', 'C', 'D', 'E', 'F']\n",
      "F:['A', 'G']\n",
      "[('A', 5), ('B', 1), ('C', 1), ('D', 1), ('E', 1), ('F', 2), ('G', 6), ('H', 1), ('I', 1), ('J', 1), ('K', 1), ('L', 1)]\n",
      "A and G:['F']\n"
     ]
    }
   ],
   "source": [
    "# number of nodes and edges\n",
    "network_3 = load_network(net_file_dict[\"net3\"])\n",
    "print(nx.info(network_3))\n",
    "\n",
    "#neighbors of A\n",
    "print(\"A:\" + str(list(nx.neighbors(network_3, \"A\"))))\n",
    "\n",
    "#neighbors of F\n",
    "print(\"F:\" + str(list(nx.neighbors(network_3, \"F\"))))\n",
    "\n",
    "#degrees of all nodes \n",
    "print(network_3.degree())\n",
    "\n",
    "#common neighbors of A and G\n",
    "print(\"A and G:\" + str(list(nx.common_neighbors(network_3, \"A\", \"G\"))))"
   ]
  },
  {
   "cell_type": "markdown",
   "metadata": {},
   "source": [
    "## Explore more complex properties of network 3\n",
    "Use existing `networkx` functions (https://networkx.github.io/documentation/stable/reference/algorithms/centrality.html#shortest-path-betweenness and https://networkx.github.io/documentation/stable/reference/algorithms/distance_measures.html and https://networkx.github.io/documentation/stable/reference/algorithms/component.html) to explore the topology of network 3.  Show:\n",
    "- Betweenness centrality of all nodes\n",
    "- The number of connected components\n",
    "- The diameter\n",
    "- The graph center"
   ]
  },
  {
   "cell_type": "code",
   "execution_count": 10,
   "metadata": {},
   "outputs": [
    {
     "name": "stdout",
     "output_type": "stream",
     "text": [
      "{'A': 0.6181818181818182, 'B': 0.0, 'C': 0.0, 'D': 0.0, 'E': 0.0, 'F': 0.5454545454545454, 'G': 0.7272727272727273, 'H': 0.0, 'I': 0.0, 'J': 0.0, 'K': 0.0, 'L': 0.0}\n",
      "1\n",
      "4\n",
      "['F']\n"
     ]
    }
   ],
   "source": [
    "#Betweenness centrality of all nodes\n",
    "print(nx.betweenness_centrality(network_3))\n",
    "\n",
    "#The number of connected components\n",
    "print(nx.number_connected_components(network_3))\n",
    "\n",
    "#the diameter \n",
    "print(nx.diameter(network_3))\n",
    "\n",
    "#the graph center\n",
    "print(nx.center(network_3))"
   ]
  },
  {
   "cell_type": "markdown",
   "metadata": {},
   "source": [
    "## Create a new network with union\n",
    "Create network 6 by taking the union of network 1 and network 5 (https://networkx.github.io/documentation/stable/reference/algorithms/operators.html).  Draw the new graph."
   ]
  },
  {
   "cell_type": "code",
   "execution_count": 11,
   "metadata": {},
   "outputs": [
    {
     "name": "stdout",
     "output_type": "stream",
     "text": [
      "Name: \n",
      "Type: Graph\n",
      "Number of nodes: 8\n",
      "Number of edges: 8\n",
      "Average degree:   2.0000\n"
     ]
    },
    {
     "data": {
      "image/png": "[encoded data removed]",
      "text/plain": [
       "<Figure size 432x288 with 1 Axes>"
      ]
     },
     "metadata": {},
     "output_type": "display_data"
    }
   ],
   "source": [
    "network_1 = load_network(net_file_dict[\"net1\"])\n",
    "network_5 = load_network(net_file_dict[\"net5\"])\n",
    "\n",
    "network_6 = nx.compose(network_1, network_5)\n",
    "draw(network_6)"
   ]
  },
  {
   "cell_type": "markdown",
   "metadata": {},
   "source": [
    "## Create a new network with difference\n",
    "Create network 7 by taking the symmetric difference of network 2 and network 3 (https://networkx.github.io/documentation/stable/reference/algorithms/operators.html).  Draw the new graph."
   ]
  },
  {
   "cell_type": "code",
   "execution_count": 12,
   "metadata": {},
   "outputs": [
    {
     "ename": "NetworkXError",
     "evalue": "Node sets of graphs not equal",
     "output_type": "error",
     "traceback": [
      "\u001b[1;31m---------------------------------------------------------------------------\u001b[0m",
      "\u001b[1;31mNetworkXError\u001b[0m                             Traceback (most recent call last)",
      "\u001b[1;32m<ipython-input-12-b98a381ac6a1>\u001b[0m in \u001b[0;36m<module>\u001b[1;34m\u001b[0m\n\u001b[0;32m      2\u001b[0m \u001b[0mnetwork_3\u001b[0m \u001b[1;33m=\u001b[0m \u001b[0mload_network\u001b[0m\u001b[1;33m(\u001b[0m\u001b[0mnet_file_dict\u001b[0m\u001b[1;33m[\u001b[0m\u001b[1;34m\"net3\"\u001b[0m\u001b[1;33m]\u001b[0m\u001b[1;33m)\u001b[0m\u001b[1;33m\u001b[0m\u001b[1;33m\u001b[0m\u001b[0m\n\u001b[0;32m      3\u001b[0m \u001b[1;33m\u001b[0m\u001b[0m\n\u001b[1;32m----> 4\u001b[1;33m \u001b[0mnx\u001b[0m\u001b[1;33m.\u001b[0m\u001b[0mdifference\u001b[0m\u001b[1;33m(\u001b[0m\u001b[0mnetwork_2\u001b[0m\u001b[1;33m,\u001b[0m \u001b[0mnetwork_3\u001b[0m\u001b[1;33m)\u001b[0m\u001b[1;33m\u001b[0m\u001b[1;33m\u001b[0m\u001b[0m\n\u001b[0m",
      "\u001b[1;32m~\\Anaconda3\\lib\\site-packages\\networkx\\algorithms\\operators\\binary.py\u001b[0m in \u001b[0;36mdifference\u001b[1;34m(G, H)\u001b[0m\n\u001b[0;32m    222\u001b[0m \u001b[1;33m\u001b[0m\u001b[0m\n\u001b[0;32m    223\u001b[0m     \u001b[1;32mif\u001b[0m \u001b[0mset\u001b[0m\u001b[1;33m(\u001b[0m\u001b[0mG\u001b[0m\u001b[1;33m)\u001b[0m \u001b[1;33m!=\u001b[0m \u001b[0mset\u001b[0m\u001b[1;33m(\u001b[0m\u001b[0mH\u001b[0m\u001b[1;33m)\u001b[0m\u001b[1;33m:\u001b[0m\u001b[1;33m\u001b[0m\u001b[1;33m\u001b[0m\u001b[0m\n\u001b[1;32m--> 224\u001b[1;33m         \u001b[1;32mraise\u001b[0m \u001b[0mnx\u001b[0m\u001b[1;33m.\u001b[0m\u001b[0mNetworkXError\u001b[0m\u001b[1;33m(\u001b[0m\u001b[1;34m\"Node sets of graphs not equal\"\u001b[0m\u001b[1;33m)\u001b[0m\u001b[1;33m\u001b[0m\u001b[1;33m\u001b[0m\u001b[0m\n\u001b[0m\u001b[0;32m    225\u001b[0m \u001b[1;33m\u001b[0m\u001b[0m\n\u001b[0;32m    226\u001b[0m     \u001b[1;32mif\u001b[0m \u001b[0mG\u001b[0m\u001b[1;33m.\u001b[0m\u001b[0mis_multigraph\u001b[0m\u001b[1;33m(\u001b[0m\u001b[1;33m)\u001b[0m\u001b[1;33m:\u001b[0m\u001b[1;33m\u001b[0m\u001b[1;33m\u001b[0m\u001b[0m\n",
      "\u001b[1;31mNetworkXError\u001b[0m: Node sets of graphs not equal"
     ]
    }
   ],
   "source": [
    "network_2 = load_network(net_file_dict[\"net2\"])\n",
    "network_3 = load_network(net_file_dict[\"net3\"])\n",
    "\n",
    "nx.difference(network_2, network_3)"
   ]
  },
  {
   "cell_type": "markdown",
   "metadata": {},
   "source": [
    "## Create a new network\n",
    "Create network 8 by creating a new empty Graph and adding any nodes and edges you would like (https://networkx.github.io/documentation/stable/reference/classes/graph.html#methods).  Use node names in the range **A** to **Z**.  Draw the new graph."
   ]
  },
  {
   "cell_type": "code",
   "execution_count": null,
   "metadata": {},
   "outputs": [],
   "source": []
  },
  {
   "cell_type": "markdown",
   "metadata": {},
   "source": [
    "## Summarizing graph properties\n",
    "Create a `pandas` dataframe that summarizes the all of the graphs' properties.  Each column represents a different graph attribute.  Each row corresponds to a graph.  Include the following attributes in the columns:\n",
    "- Number of nodes\n",
    "- Number of edges\n",
    "- Graph diameter\n",
    "- Number of connected components\n",
    "- Maximum degree (max over all node degrees)\n",
    "\n",
    "Also test storing graphs in the dataframe."
   ]
  },
  {
   "cell_type": "code",
   "execution_count": 53,
   "metadata": {},
   "outputs": [],
   "source": [
    "import pandas as pd\n",
    "nodes = []\n",
    "def number_of_nodes(networks):\n",
    "    for network in networks:\n",
    "        graph = load_network(network)\n",
    "        G = nx.path_graph(graph)\n",
    "        nodes.append(len(list(G.nodes)))\n",
    "    return nodes\n",
    "\n",
    "edges = []\n",
    "def number_of_edges(networks):\n",
    "    for network in networks:\n",
    "        graph = load_network(network)\n",
    "        edges.append(nx.number_of_edges(graph))\n",
    "    return edges\n",
    "\n",
    "diameter = []\n",
    "def network_diameter(networks):\n",
    "    for network in networks:\n",
    "        try:\n",
    "            graph = load_network(network)\n",
    "            diameter.append(nx.diameter(graph))\n",
    "        except:\n",
    "            diameter.append(\"infinite diameter\")\n",
    "    return diameter \n",
    "        \n",
    "\n",
    "\n",
    "conn_comp = []\n",
    "def connected_components(networks):\n",
    "    for network in networks:\n",
    "        graph =  load_network(network)\n",
    "        conn_comp.append(nx.number_connected_components(graph))\n",
    "    return conn_comp\n",
    "\n",
    "\n",
    "degree = []\n",
    "def max_degree(networks):\n",
    "    for network in networks:\n",
    "        graph =  load_network(network)\n",
    "        sort = sorted(graph.degree, key=lambda x: x[1], reverse=True)\n",
    "        degree.append(sort[0])\n",
    "    return degree\n",
    "\n",
    "\n",
    "\n",
    "data = {'Network name': keys, \n",
    "        'Number of nodes':number_of_nodes(network_files), \n",
    "        'Number of edges': number_of_edges(network_files), \n",
    "        'Graph diameter':network_diameter(network_files) , \n",
    "        'Number of connected components': connected_components(network_files),\n",
    "       \"Degree\": max_degree(network_files)}\n",
    "\n",
    "\n",
    "df = pd.DataFrame(data)\n",
    "df.set_index(\"Network name\")\n",
    "pd.set_option('display.max_colwidth', -1)"
   ]
  },
  {
   "cell_type": "code",
   "execution_count": 54,
   "metadata": {},
   "outputs": [
    {
     "data": {
      "text/plain": [
       "tuple"
      ]
     },
     "execution_count": 54,
     "metadata": {},
     "output_type": "execute_result"
    }
   ],
   "source": [
    "type(degree[0])"
   ]
  },
  {
   "cell_type": "raw",
   "metadata": {},
   "source": [
    "degree"
   ]
  },
  {
   "cell_type": "code",
   "execution_count": 55,
   "metadata": {},
   "outputs": [
    {
     "data": {
      "text/plain": [
       "[('G', 3), ('A', 5), ('G', 6), ('C', 3), ('B', 2)]"
      ]
     },
     "execution_count": 55,
     "metadata": {},
     "output_type": "execute_result"
    }
   ],
   "source": [
    "degree"
   ]
  },
  {
   "cell_type": "code",
   "execution_count": 56,
   "metadata": {},
   "outputs": [
    {
     "data": {
      "text/html": [
       "<div>\n",
       "<style scoped>\n",
       "    .dataframe tbody tr th:only-of-type {\n",
       "        vertical-align: middle;\n",
       "    }\n",
       "\n",
       "    .dataframe tbody tr th {\n",
       "        vertical-align: top;\n",
       "    }\n",
       "\n",
       "    .dataframe thead th {\n",
       "        text-align: right;\n",
       "    }\n",
       "</style>\n",
       "<table border=\"1\" class=\"dataframe\">\n",
       "  <thead>\n",
       "    <tr style=\"text-align: right;\">\n",
       "      <th></th>\n",
       "      <th>Network name</th>\n",
       "      <th>Number of nodes</th>\n",
       "      <th>Number of edges</th>\n",
       "      <th>Graph diameter</th>\n",
       "      <th>Number of connected components</th>\n",
       "      <th>Degree</th>\n",
       "    </tr>\n",
       "  </thead>\n",
       "  <tbody>\n",
       "    <tr>\n",
       "      <th>0</th>\n",
       "      <td>net1</td>\n",
       "      <td>8</td>\n",
       "      <td>6</td>\n",
       "      <td>infinite diameter</td>\n",
       "      <td>3</td>\n",
       "      <td>(G, 3)</td>\n",
       "    </tr>\n",
       "    <tr>\n",
       "      <th>1</th>\n",
       "      <td>net2</td>\n",
       "      <td>6</td>\n",
       "      <td>15</td>\n",
       "      <td>1</td>\n",
       "      <td>1</td>\n",
       "      <td>(A, 5)</td>\n",
       "    </tr>\n",
       "    <tr>\n",
       "      <th>2</th>\n",
       "      <td>net3</td>\n",
       "      <td>12</td>\n",
       "      <td>11</td>\n",
       "      <td>4</td>\n",
       "      <td>1</td>\n",
       "      <td>(G, 6)</td>\n",
       "    </tr>\n",
       "    <tr>\n",
       "      <th>3</th>\n",
       "      <td>net4</td>\n",
       "      <td>7</td>\n",
       "      <td>6</td>\n",
       "      <td>4</td>\n",
       "      <td>1</td>\n",
       "      <td>(C, 3)</td>\n",
       "    </tr>\n",
       "    <tr>\n",
       "      <th>4</th>\n",
       "      <td>net5</td>\n",
       "      <td>5</td>\n",
       "      <td>4</td>\n",
       "      <td>4</td>\n",
       "      <td>1</td>\n",
       "      <td>(B, 2)</td>\n",
       "    </tr>\n",
       "  </tbody>\n",
       "</table>\n",
       "</div>"
      ],
      "text/plain": [
       "  Network name  Number of nodes  Number of edges     Graph diameter  \\\n",
       "0  net1         8                6                infinite diameter   \n",
       "1  net2         6                15               1                   \n",
       "2  net3         12               11               4                   \n",
       "3  net4         7                6                4                   \n",
       "4  net5         5                4                4                   \n",
       "\n",
       "   Number of connected components  Degree  \n",
       "0  3                               (G, 3)  \n",
       "1  1                               (A, 5)  \n",
       "2  1                               (G, 6)  \n",
       "3  1                               (C, 3)  \n",
       "4  1                               (B, 2)  "
      ]
     },
     "execution_count": 56,
     "metadata": {},
     "output_type": "execute_result"
    }
   ],
   "source": [
    "df"
   ]
  },
  {
   "cell_type": "code",
   "execution_count": null,
   "metadata": {},
   "outputs": [],
   "source": []
  }
 ],
 "metadata": {
  "kernelspec": {
   "display_name": "Python 3",
   "language": "python",
   "name": "python3"
  },
  "language_info": {
   "codemirror_mode": {
    "name": "ipython",
    "version": 3
   },
   "file_extension": ".py",
   "mimetype": "text/x-python",
   "name": "python",
   "nbconvert_exporter": "python",
   "pygments_lexer": "ipython3",
   "version": "3.7.3"
  }
 },
 "nbformat": 4,
 "nbformat_minor": 1
}
